{
 "cells": [
  {
   "cell_type": "code",
   "execution_count": 71,
   "metadata": {},
   "outputs": [
    {
     "name": "stdout",
     "output_type": "stream",
     "text": [
      "Ваш алгоритм угадывает число в среднем за 7 попыток\n"
     ]
    },
    {
     "data": {
      "text/plain": [
       "7"
      ]
     },
     "execution_count": 71,
     "metadata": {},
     "output_type": "execute_result"
    }
   ],
   "source": [
    "import numpy as np\n",
    "\n",
    "number = np.random.randint(1,101)    # загадали число\n",
    "\n",
    "def game_core(number):\n",
    "    '''Сначала устанавливаем любое random число,  сравниваем десяток загаданного числа с десятком подбираемого, \n",
    "       затем сравниваем единицы, если десятки не совпали, а после уменьшаем или увеличиваем его в зависимости \n",
    "       от того, больше оно или меньше нужного и совпали или нет десятки. \n",
    "       Функция принимает загаданное число и возвращает число попыток'''\n",
    "    \n",
    "    count = 1\n",
    "\n",
    "    predict = np.random.randint(1,101)\n",
    "    while number != predict:\n",
    "        count += 1\n",
    "        \n",
    "        \n",
    "        \n",
    "        if number>predict and (str(predict)[0]!=str(number)[0]): \n",
    "            if predict>9 and len(str(number))>1 and(str(predict)[1]==str(number)[1]):\n",
    "                predict += 10\n",
    "            else:\n",
    "                predict += 7\n",
    "        elif number > predict and (str(predict)[0]==str(number)[0]):\n",
    "            predict += 3\n",
    "                     \n",
    "            \n",
    "        elif number<predict and (str(predict)[0]!=str(number)[0]):\n",
    "            if predict>9 and len(str(number))>1 and(str(predict)[1]==str(number)[1]):\n",
    "                predict -= 10\n",
    "            else:\n",
    "                predict -= 8\n",
    "        elif number<predict and str(predict)[0]==str(number)[0]:\n",
    "            predict -= 2\n",
    "\n",
    "    return(count) # выход из цикла, если угадали \n",
    "\n",
    "def score_game(game_core):\n",
    "    '''Запускаем игру 1000 раз, чтобы узнать, как быстро игра угадывает число'''\n",
    "    count_ls = []\n",
    "    np.random.seed(1)  # фиксируем RANDOM SEED, чтобы эксперимент был воспроизводим!\n",
    "    random_array = np.random.randint(1,101, size=(1000))\n",
    "    for number in random_array:\n",
    "        count_ls.append(game_core(number))\n",
    "    score = int(np.mean(count_ls))\n",
    "    print(f\"Ваш алгоритм угадывает число в среднем за {score} попыток\")\n",
    "    return(score)\n",
    "\n",
    "score_game(game_core)"
   ]
  },
  {
   "cell_type": "code",
   "execution_count": null,
   "metadata": {},
   "outputs": [],
   "source": []
  },
  {
   "cell_type": "code",
   "execution_count": null,
   "metadata": {},
   "outputs": [],
   "source": []
  },
  {
   "cell_type": "code",
   "execution_count": null,
   "metadata": {},
   "outputs": [],
   "source": []
  },
  {
   "cell_type": "code",
   "execution_count": null,
   "metadata": {},
   "outputs": [],
   "source": []
  }
 ],
 "metadata": {
  "kernelspec": {
   "display_name": "Python 3",
   "language": "python",
   "name": "python3"
  },
  "language_info": {
   "codemirror_mode": {
    "name": "ipython",
    "version": 3
   },
   "file_extension": ".py",
   "mimetype": "text/x-python",
   "name": "python",
   "nbconvert_exporter": "python",
   "pygments_lexer": "ipython3",
   "version": "3.7.6"
  }
 },
 "nbformat": 4,
 "nbformat_minor": 4
}
